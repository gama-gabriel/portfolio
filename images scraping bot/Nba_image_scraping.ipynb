{
 "cells": [
  {
   "cell_type": "markdown",
   "id": "c54c7389",
   "metadata": {},
   "source": [
    "### Initializing variables and website"
   ]
  },
  {
   "cell_type": "code",
   "execution_count": null,
   "id": "8292d93d",
   "metadata": {
    "scrolled": true
   },
   "outputs": [],
   "source": [
    "from selenium import webdriver\n",
    "from selenium.webdriver.common.action_chains import ActionChains\n",
    "from selenium.webdriver.common.by import By\n",
    "from selenium.webdriver.common.keys import Keys\n",
    "from webdriver_manager.chrome import ChromeDriverManager\n",
    "from selenium.webdriver.chrome.service import Service\n",
    "import json\n",
    "from time import sleep\n",
    "\n",
    "lista = []\n",
    "jogador = {\"id\": 0, \"PName\": '', \"img_url\": \"\"}\n",
    "row = total = 1\n",
    "\n",
    "servico = Service(ChromeDriverManager().install())\n",
    "navegador = webdriver.Chrome(service = servico)\n",
    "acao = ActionChains(navegador)\n",
    "\n",
    "navegador.get('https://www.nba.com/stats/players/traditional?PerMode=Totals&sort=PTS&dir=-1')\n",
    "\n",
    "aceitar_cookies = navegador.find_element(By.XPATH, '//*[@id=\"onetrust-accept-btn-handler\"]')\n",
    "aceitar_cookies.click()\n"
   ]
  },
  {
   "cell_type": "markdown",
   "id": "b3b42359",
   "metadata": {},
   "source": [
    "### Setting the desired filters (this code can be altered for the desired filters or ignored) "
   ]
  },
  {
   "cell_type": "code",
   "execution_count": null,
   "id": "bedc60fc",
   "metadata": {},
   "outputs": [],
   "source": [
    "botao_filtro = navegador.find_element(By.XPATH, '//*[@id=\"__next\"]/div[2]/div[2]/div[3]/section[2]/div/div[2]/div[2]/div[2]/div/button')\n",
    "botao_filtro.click()\n",
    "sleep(0.5)\n",
    "\n",
    "stats_filtro = navegador.find_element(By.XPATH, '//*[@id=\"__next\"]/div[2]/div[2]/div[3]/section[2]/div/div[2]/div[2]/div[2]/div[1]/div[1]/div/select')\n",
    "stats_filtro.click()\n",
    "acao.send_keys_to_element(stats_filtro, 'm').perform()\n",
    "\n",
    "maior_filtro = navegador.find_element(By.XPATH, '//*[@id=\"__next\"]/div[2]/div[2]/div[3]/section[2]/div/div[2]/div[2]/div[2]/div[1]/div[2]/div/select')\n",
    "maior_filtro.click()\n",
    "acao.send_keys(Keys.ARROW_DOWN + Keys.ARROW_DOWN + Keys.ARROW_DOWN + Keys.ENTER).perform()\n",
    "\n",
    "texto_filtro = navegador.find_element(By.XPATH, '//*[@id=\"__next\"]/div[2]/div[2]/div[3]/section[2]/div/div[2]/div[2]/div[2]/div[1]/input')\n",
    "texto_filtro.send_keys('100')"
   ]
  },
  {
   "cell_type": "markdown",
   "id": "01895ec3",
   "metadata": {},
   "source": [
    "### Geting a link for each image"
   ]
  },
  {
   "cell_type": "code",
   "execution_count": null,
   "id": "9e658738",
   "metadata": {},
   "outputs": [],
   "source": [
    "while True:\n",
    "    if (total > 468):\n",
    "        break\n",
    "    if (row > 50):\n",
    "        body = navegador.find_element(By.TAG_NAME, 'body')\n",
    "        body.send_keys(Keys.HOME)\n",
    "        navegador.find_element(By.XPATH, '//*[@id=\"__next\"]/div[2]/div[2]/div[3]/section[2]/div/div[2]/div[2]/div[1]/div[6]/button[2]').click()\n",
    "        row = 1\n",
    "    nome = navegador.find_element(By.XPATH, f'//*[@id=\"__next\"]/div[2]/div[2]/div[3]/section[2]/div/div[2]/div[3]/table/tbody/tr[{row}]/td[2]/a')\n",
    "    acao.key_down(Keys.CONTROL).key_down(Keys.SHIFT).click(nome).key_up(Keys.SHIFT).key_up(Keys.CONTROL).perform()\n",
    "    jogador[\"PName\"] = nome.text\n",
    "    navegador.switch_to.window(navegador.window_handles[1])\n",
    "    url = navegador.current_url\n",
    "    url = url.replace('https://www.nba.com/stats/player/', '')\n",
    "    url = url.replace('https://www.nba.com/players/', '')\n",
    "    site_img = f'https://cdn.nba.com/headshots/nba/latest/1040x760/{url}.png'\n",
    "    jogador[\"id\"] = total\n",
    "    jogador[\"img_url\"] = site_img\n",
    "    lista.append(jogador.copy())\n",
    "    navegador.close()\n",
    "    navegador.switch_to.window(navegador.window_handles[0])\n",
    "    row += 1\n",
    "    total += 1\n",
    "\n",
    "j = (json.dumps(lista))"
   ]
  },
  {
   "cell_type": "markdown",
   "id": "4d6ed326",
   "metadata": {},
   "source": [
    "### Creates a file that receives the json content (optional)"
   ]
  },
  {
   "cell_type": "code",
   "execution_count": null,
   "id": "4298c6dc",
   "metadata": {},
   "outputs": [],
   "source": [
    "\n",
    "j = (json.dumps(lista))\n",
    "\n",
    "with open (\"C:\\\\Users\\\\gusta\\\\Downloads\\\\Jupyter files\\\\PlayersList.json\", \"w\") as f:\n",
    "     f.write(j)"
   ]
  },
  {
   "cell_type": "markdown",
   "id": "55942428",
   "metadata": {},
   "source": [
    "### Full code (without creating a file)"
   ]
  },
  {
   "cell_type": "code",
   "execution_count": null,
   "id": "9b5858cf",
   "metadata": {},
   "outputs": [],
   "source": [
    "from selenium import webdriver\n",
    "from selenium.webdriver.common.action_chains import ActionChains\n",
    "from selenium.webdriver.common.by import By\n",
    "from selenium.webdriver.common.keys import Keys\n",
    "from webdriver_manager.chrome import ChromeDriverManager\n",
    "from selenium.webdriver.chrome.service import Service\n",
    "import json\n",
    "from time import sleep\n",
    "\n",
    "lista = []\n",
    "jogador = {\"id\": 0, \"PName\": '', \"img_url\": \"\"}\n",
    "row = total = 1\n",
    "\n",
    "servico = Service(ChromeDriverManager().install())\n",
    "navegador = webdriver.Chrome(service = servico)\n",
    "acao = ActionChains(navegador)\n",
    "\n",
    "navegador.get('https://www.nba.com/stats/players/traditional?PerMode=Totals&sort=PTS&dir=-1')\n",
    "\n",
    "aceitar_cookies = navegador.find_element(By.XPATH, '//*[@id=\"onetrust-accept-btn-handler\"]')\n",
    "aceitar_cookies.click()\n",
    "\n",
    "sleep(2)\n",
    "\n",
    "botao_filtro = navegador.find_element(By.XPATH, '//*[@id=\"__next\"]/div[2]/div[2]/div[3]/section[2]/div/div[2]/div[2]/div[2]/div/button')\n",
    "botao_filtro.click()\n",
    "sleep(0.5)\n",
    "\n",
    "stats_filtro = navegador.find_element(By.XPATH, '//*[@id=\"__next\"]/div[2]/div[2]/div[3]/section[2]/div/div[2]/div[2]/div[2]/div[1]/div[1]/div/select')\n",
    "stats_filtro.click()\n",
    "acao.send_keys_to_element(stats_filtro, 'm').perform()\n",
    "\n",
    "maior_filtro = navegador.find_element(By.XPATH, '//*[@id=\"__next\"]/div[2]/div[2]/div[3]/section[2]/div/div[2]/div[2]/div[2]/div[1]/div[2]/div/select')\n",
    "maior_filtro.click()\n",
    "acao.send_keys(Keys.ARROW_DOWN + Keys.ARROW_DOWN + Keys.ARROW_DOWN + Keys.ENTER).perform()\n",
    "\n",
    "texto_filtro = navegador.find_element(By.XPATH, '//*[@id=\"__next\"]/div[2]/div[2]/div[3]/section[2]/div/div[2]/div[2]/div[2]/div[1]/input')\n",
    "texto_filtro.send_keys('100')\n",
    "\n",
    "sleep(1)\n",
    "\n",
    "while True:\n",
    "    if (total > 468):\n",
    "        break\n",
    "    if (row > 50):\n",
    "        body = navegador.find_element(By.TAG_NAME, 'body')\n",
    "        body.send_keys(Keys.HOME)\n",
    "        navegador.find_element(By.XPATH, '//*[@id=\"__next\"]/div[2]/div[2]/div[3]/section[2]/div/div[2]/div[2]/div[1]/div[6]/button[2]').click()\n",
    "        row = 1\n",
    "    nome = navegador.find_element(By.XPATH, f'//*[@id=\"__next\"]/div[2]/div[2]/div[3]/section[2]/div/div[2]/div[3]/table/tbody/tr[{row}]/td[2]/a')\n",
    "    acao.key_down(Keys.CONTROL).key_down(Keys.SHIFT).click(nome).key_up(Keys.SHIFT).key_up(Keys.CONTROL).perform()\n",
    "    jogador[\"PName\"] = nome.text\n",
    "    navegador.switch_to.window(navegador.window_handles[1])\n",
    "    url = navegador.current_url\n",
    "    url = url.replace('https://www.nba.com/stats/player/', '')\n",
    "    url = url.replace('https://www.nba.com/players/', '')\n",
    "    site_img = f'https://cdn.nba.com/headshots/nba/latest/1040x760/{url}.png'\n",
    "    jogador[\"id\"] = total\n",
    "    jogador[\"img_url\"] = site_img\n",
    "    lista.append(jogador.copy())\n",
    "    navegador.close()\n",
    "    navegador.switch_to.window(navegador.window_handles[0])\n",
    "    row += 1\n",
    "    total += 1\n",
    "\n",
    "j = (json.dumps(lista))"
   ]
  }
 ],
 "metadata": {
  "kernelspec": {
   "display_name": "Python 3 (ipykernel)",
   "language": "python",
   "name": "python3"
  },
  "language_info": {
   "codemirror_mode": {
    "name": "ipython",
    "version": 3
   },
   "file_extension": ".py",
   "mimetype": "text/x-python",
   "name": "python",
   "nbconvert_exporter": "python",
   "pygments_lexer": "ipython3",
   "version": "3.11.4"
  }
 },
 "nbformat": 4,
 "nbformat_minor": 5
}
